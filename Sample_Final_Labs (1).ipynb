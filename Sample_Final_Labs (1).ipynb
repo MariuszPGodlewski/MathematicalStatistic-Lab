{
 "cells": [
  {
   "cell_type": "markdown",
   "metadata": {},
   "source": [
    "## Introduction to the Sample Final Test\n",
    "\n",
    "Dear Students,\n",
    "\n",
    "Welcome to the sample final test for our laboratory course. This test is designed to assess your understanding and application of the concepts and techniques we have covered throughout the semester. \n",
    "\n",
    "Instructions:\n",
    "\n",
    "Read Each Question Carefully: Ensure you understand what is being asked before you start coding.\n",
    "\n",
    "Write Clean and Commented Code: Your code should be well-organized and include comments explaining your logic.\n",
    "\n",
    "Test Your Code: Make sure to test your code with different inputs to ensure it works correctly.\n",
    "\n",
    "Conclusions: Make final decisions, decide about the statistical and practical significance. \n",
    "\n",
    "Resources:\n",
    "\n",
    "You are allowed to use your notes, textbooks, and online resources to help you complete the test. \n",
    "\n",
    "**Please be advised that the use of any Generative AI (GenAI) tools is strictly prohibited during this test. This includes, but is not limited to, tools that generate code, text, or any other form of content based on AI algorithms.**\n",
    "\n",
    "Collaboration with classmates is not permitted. This test is an individual assessment of your skills.\n",
    "\n",
    "I encourage you to take your time and approach each question methodically. This test is an opportunity to demonstrate your proficiency and understanding of the material. \n",
    "\n",
    "Best regards,\n",
    "\n",
    "Karol\n",
    "/Mathematical Statistics 2024/2025/\n",
    "\n"
   ]
  },
  {
   "cell_type": "markdown",
   "metadata": {},
   "source": [
    "# Task 1: Verify the Hypothesis\n",
    "\n",
    "Objective: Verify the hypothesis that the salaries of professors working in theoretical departments (B) are much lower than those working in applied departments (A)."
   ]
  },
  {
   "cell_type": "code",
   "execution_count": 4,
   "metadata": {},
   "outputs": [
    {
     "name": "stdout",
     "output_type": "stream",
     "text": [
      "   rownames      rank discipline  yrs.since.phd  yrs.service   sex  salary\n",
      "0         1      Prof          B             19           18  Male  139750\n",
      "1         2      Prof          B             20           16  Male  173200\n",
      "2         3  AsstProf          B              4            3  Male   79750\n",
      "3         4      Prof          B             45           39  Male  115000\n",
      "4         5      Prof          B             40           41  Male  141500\n"
     ]
    }
   ],
   "source": [
    "import pandas as pd\n",
    "\n",
    "# Load the Salaries dataset from the URL\n",
    "url = \"https://vincentarelbundock.github.io/Rdatasets/csv/carData/Salaries.csv\"\n",
    "salaries = pd.read_csv(url)\n",
    "\n",
    "# Filter the data based on the department type\n",
    "theoretical_salaries = salaries[salaries['discipline'] == 'B']['salary']\n",
    "applied_salaries = salaries[salaries['discipline'] == 'A']['salary']\n",
    "\n",
    "# Display the first few rows of the dataset\n",
    "print(salaries.head())"
   ]
  },
  {
   "cell_type": "code",
   "execution_count": null,
   "metadata": {},
   "outputs": [],
   "source": [
    "# your solution"
   ]
  },
  {
   "cell_type": "markdown",
   "metadata": {},
   "source": [
    "# Task 2: Verify the Hypothesis\n",
    "\n",
    "Objective: Verify if the proportion of higher rank professors (associate and full professors) is significantly different between male and female scientists."
   ]
  },
  {
   "cell_type": "code",
   "execution_count": null,
   "metadata": {},
   "outputs": [],
   "source": [
    "# your solution"
   ]
  },
  {
   "cell_type": "markdown",
   "metadata": {},
   "source": [
    "# Task 3: Verify the Hypothesis\n",
    "\n",
    "Objective: Verify if the salaries of professors are significantly different based on rank, gender, and discipline, and check for interactions between these groups."
   ]
  },
  {
   "cell_type": "code",
   "execution_count": null,
   "metadata": {},
   "outputs": [],
   "source": [
    "# your solution"
   ]
  },
  {
   "cell_type": "markdown",
   "metadata": {},
   "source": [
    "# Task 4: Verify the Hypothesis\n",
    "\n",
    "Objective: Verify if credit amounts (in DM) are significantly different for people applying with different job, personal status, sex, or age."
   ]
  },
  {
   "cell_type": "code",
   "execution_count": 10,
   "metadata": {},
   "outputs": [
    {
     "name": "stdout",
     "output_type": "stream",
     "text": [
      "                status  duration                            credit_history  \\\n",
      "0         ... < 100 DM         6   critical account/other credits existing   \n",
      "1    0 <= ... < 200 DM        48  existing credits paid back duly till now   \n",
      "2  no checking account        12   critical account/other credits existing   \n",
      "3         ... < 100 DM        42  existing credits paid back duly till now   \n",
      "4         ... < 100 DM        24           delay in paying off in the past   \n",
      "\n",
      "               purpose  amount                     savings  \\\n",
      "0  domestic appliances    1169  unknown/no savings account   \n",
      "1  domestic appliances    5951                ... < 100 DM   \n",
      "2           retraining    2096                ... < 100 DM   \n",
      "3     radio/television    7882                ... < 100 DM   \n",
      "4            car (new)    4870                ... < 100 DM   \n",
      "\n",
      "  employment_duration  installment_rate                  personal_status_sex  \\\n",
      "0      ... >= 7 years                 4                        male : single   \n",
      "1  1 <= ... < 4 years                 2  female : divorced/separated/married   \n",
      "2  4 <= ... < 7 years                 2                        male : single   \n",
      "3  4 <= ... < 7 years                 2                        male : single   \n",
      "4  1 <= ... < 4 years                 3                        male : single   \n",
      "\n",
      "  other_debtors  ...                                           property age  \\\n",
      "0          none  ...                                        real estate  67   \n",
      "1          none  ...                                        real estate  22   \n",
      "2          none  ...                                        real estate  49   \n",
      "3     guarantor  ...  building society savings agreement/life insurance  45   \n",
      "4          none  ...                                unknown/no property  53   \n",
      "\n",
      "   other_installment_plans   housing number_credits  \\\n",
      "0                     none       own              2   \n",
      "1                     none       own              1   \n",
      "2                     none       own              1   \n",
      "3                     none  for free              1   \n",
      "4                     none  for free              2   \n",
      "\n",
      "                         job people_liable  telephone foreign_worker  \\\n",
      "0  skilled employee/official             1        yes            yes   \n",
      "1  skilled employee/official             1         no            yes   \n",
      "2       unskilled - resident             2         no            yes   \n",
      "3  skilled employee/official             2         no            yes   \n",
      "4  skilled employee/official             2         no            yes   \n",
      "\n",
      "  credit_risk  \n",
      "0           1  \n",
      "1           0  \n",
      "2           1  \n",
      "3           1  \n",
      "4           0  \n",
      "\n",
      "[5 rows x 21 columns]\n"
     ]
    }
   ],
   "source": [
    "import pandas as pd\n",
    "\n",
    "# Load the GermanCredit dataset from GitHub\n",
    "url = \"https://raw.githubusercontent.com/selva86/datasets/master/GermanCredit.csv\"\n",
    "germancredit = pd.read_csv(url)\n",
    "\n",
    "# Display the first few rows of the dataset\n",
    "print(germancredit.head())"
   ]
  },
  {
   "cell_type": "code",
   "execution_count": null,
   "metadata": {},
   "outputs": [],
   "source": [
    "# your solution"
   ]
  },
  {
   "cell_type": "markdown",
   "metadata": {},
   "source": [
    "# Task 5: Evaluate Interaction Between Group and Time\n",
    "\n",
    "Description: \n",
    "\n",
    "The data provide the anxiety score, measured at three time points, of three groups of individuals practicing physical exercises at different levels (grp1: basal, grp2: moderate and grp3: high)\n",
    "\n",
    "Objective: Evaluate if there is an interaction between group and time in explaining anxiety scores."
   ]
  },
  {
   "cell_type": "code",
   "execution_count": 13,
   "metadata": {},
   "outputs": [
    {
     "name": "stdout",
     "output_type": "stream",
     "text": [
      "   Unnamed: 0  id group    t1    t2    t3\n",
      "0           1   1  grp1  14.1  14.4  14.1\n",
      "1           2   2  grp1  14.5  14.6  14.3\n",
      "2           3   3  grp1  15.7  15.2  14.9\n",
      "3           4   4  grp1  16.0  15.5  15.3\n",
      "4           5   5  grp1  16.5  15.8  15.7\n"
     ]
    }
   ],
   "source": [
    "import pandas as pd\n",
    "\n",
    "# Load the anxiety dataset from GitHub\n",
    "url = \"https://raw.githubusercontent.com/kflisikowski/ds/master/anxiety.csv\"\n",
    "anxiety_data = pd.read_csv(url)\n",
    "\n",
    "# Display the first few rows of the dataset\n",
    "print(anxiety_data.head())"
   ]
  },
  {
   "cell_type": "code",
   "execution_count": null,
   "metadata": {},
   "outputs": [],
   "source": [
    "# your solution"
   ]
  },
  {
   "cell_type": "markdown",
   "metadata": {},
   "source": [
    "# Task 6: Evaluate the Goodness of Fit\n",
    "\n",
    "Objective: Use the goodness of fit test to determine whether the distribution of credit amounts for male customers matches that of female customers."
   ]
  },
  {
   "cell_type": "code",
   "execution_count": 14,
   "metadata": {},
   "outputs": [
    {
     "name": "stdout",
     "output_type": "stream",
     "text": [
      "                status  duration                            credit_history  \\\n",
      "0         ... < 100 DM         6   critical account/other credits existing   \n",
      "1    0 <= ... < 200 DM        48  existing credits paid back duly till now   \n",
      "2  no checking account        12   critical account/other credits existing   \n",
      "3         ... < 100 DM        42  existing credits paid back duly till now   \n",
      "4         ... < 100 DM        24           delay in paying off in the past   \n",
      "\n",
      "               purpose  amount                     savings  \\\n",
      "0  domestic appliances    1169  unknown/no savings account   \n",
      "1  domestic appliances    5951                ... < 100 DM   \n",
      "2           retraining    2096                ... < 100 DM   \n",
      "3     radio/television    7882                ... < 100 DM   \n",
      "4            car (new)    4870                ... < 100 DM   \n",
      "\n",
      "  employment_duration  installment_rate                  personal_status_sex  \\\n",
      "0      ... >= 7 years                 4                        male : single   \n",
      "1  1 <= ... < 4 years                 2  female : divorced/separated/married   \n",
      "2  4 <= ... < 7 years                 2                        male : single   \n",
      "3  4 <= ... < 7 years                 2                        male : single   \n",
      "4  1 <= ... < 4 years                 3                        male : single   \n",
      "\n",
      "  other_debtors  ...                                           property age  \\\n",
      "0          none  ...                                        real estate  67   \n",
      "1          none  ...                                        real estate  22   \n",
      "2          none  ...                                        real estate  49   \n",
      "3     guarantor  ...  building society savings agreement/life insurance  45   \n",
      "4          none  ...                                unknown/no property  53   \n",
      "\n",
      "   other_installment_plans   housing number_credits  \\\n",
      "0                     none       own              2   \n",
      "1                     none       own              1   \n",
      "2                     none       own              1   \n",
      "3                     none  for free              1   \n",
      "4                     none  for free              2   \n",
      "\n",
      "                         job people_liable  telephone foreign_worker  \\\n",
      "0  skilled employee/official             1        yes            yes   \n",
      "1  skilled employee/official             1         no            yes   \n",
      "2       unskilled - resident             2         no            yes   \n",
      "3  skilled employee/official             2         no            yes   \n",
      "4  skilled employee/official             2         no            yes   \n",
      "\n",
      "  credit_risk  \n",
      "0           1  \n",
      "1           0  \n",
      "2           1  \n",
      "3           1  \n",
      "4           0  \n",
      "\n",
      "[5 rows x 21 columns]\n"
     ]
    }
   ],
   "source": [
    "import pandas as pd\n",
    "\n",
    "# Load the German Credit dataset from GitHub\n",
    "url = \"https://raw.githubusercontent.com/selva86/datasets/master/GermanCredit.csv\"\n",
    "germancredit = pd.read_csv(url)\n",
    "\n",
    "# Display the first few rows of the dataset\n",
    "print(germancredit.head())"
   ]
  },
  {
   "cell_type": "code",
   "execution_count": null,
   "metadata": {},
   "outputs": [],
   "source": [
    "# your solution"
   ]
  },
  {
   "cell_type": "markdown",
   "metadata": {},
   "source": [
    "# Task 7: Evaluate the Change in Asthma Symptoms Over Time\n",
    "\n",
    "Objective: determine if there is a significant change in asthma symptoms reported by participants at two different time points."
   ]
  },
  {
   "cell_type": "code",
   "execution_count": 2,
   "metadata": {},
   "outputs": [
    {
     "name": "stdout",
     "output_type": "stream",
     "text": [
      "  know_begin know_end\n",
      "0        yes      yes\n",
      "1         no       no\n",
      "2        yes       no\n",
      "3         no       no\n",
      "4         no       no\n"
     ]
    }
   ],
   "source": [
    "import pandas as pd\n",
    "\n",
    "# Load the asthma dataset from GitHub\n",
    "url = \"https://github.com/bougioukas/basic_stats_R/raw/main/data/asthma.xlsx\"\n",
    "asthma_data = pd.read_excel(url)\n",
    "\n",
    "# Display the first few rows of the dataset\n",
    "print(asthma_data.head())"
   ]
  },
  {
   "cell_type": "code",
   "execution_count": null,
   "metadata": {},
   "outputs": [],
   "source": [
    "# your solution"
   ]
  },
  {
   "cell_type": "markdown",
   "metadata": {},
   "source": [
    "# Task 8: Differences of BG readings Over Time \n",
    "\n",
    "Objective: determine if there is a significant difference in the blood glucose (BG) readings over multiple time points.\n",
    "\n",
    "Data: let's use a hypothethical example of blood glucose (BG) readings of persons with diabetes.\n",
    "\n",
    "The test is done three times, say before, within and after a given clinical treatment and we want to know if there is a significant difference within the groups (times)."
   ]
  },
  {
   "cell_type": "code",
   "execution_count": 4,
   "metadata": {},
   "outputs": [
    {
     "data": {
      "text/html": [
       "<div>\n",
       "<style scoped>\n",
       "    .dataframe tbody tr th:only-of-type {\n",
       "        vertical-align: middle;\n",
       "    }\n",
       "\n",
       "    .dataframe tbody tr th {\n",
       "        vertical-align: top;\n",
       "    }\n",
       "\n",
       "    .dataframe thead th {\n",
       "        text-align: right;\n",
       "    }\n",
       "</style>\n",
       "<table border=\"1\" class=\"dataframe\">\n",
       "  <thead>\n",
       "    <tr style=\"text-align: right;\">\n",
       "      <th></th>\n",
       "      <th>before</th>\n",
       "      <th>during</th>\n",
       "      <th>after</th>\n",
       "    </tr>\n",
       "    <tr>\n",
       "      <th>Subject</th>\n",
       "      <th></th>\n",
       "      <th></th>\n",
       "      <th></th>\n",
       "    </tr>\n",
       "  </thead>\n",
       "  <tbody>\n",
       "    <tr>\n",
       "      <th>0</th>\n",
       "      <td>89.162573</td>\n",
       "      <td>94.023517</td>\n",
       "      <td>94.594145</td>\n",
       "    </tr>\n",
       "    <tr>\n",
       "      <th>1</th>\n",
       "      <td>90.857629</td>\n",
       "      <td>95.273755</td>\n",
       "      <td>95.040646</td>\n",
       "    </tr>\n",
       "    <tr>\n",
       "      <th>2</th>\n",
       "      <td>94.912999</td>\n",
       "      <td>96.612870</td>\n",
       "      <td>95.200472</td>\n",
       "    </tr>\n",
       "    <tr>\n",
       "      <th>3</th>\n",
       "      <td>95.254064</td>\n",
       "      <td>96.818673</td>\n",
       "      <td>97.205801</td>\n",
       "    </tr>\n",
       "    <tr>\n",
       "      <th>4</th>\n",
       "      <td>97.136291</td>\n",
       "      <td>97.760342</td>\n",
       "      <td>98.428840</td>\n",
       "    </tr>\n",
       "    <tr>\n",
       "      <th>5</th>\n",
       "      <td>99.809999</td>\n",
       "      <td>99.169227</td>\n",
       "      <td>98.867769</td>\n",
       "    </tr>\n",
       "    <tr>\n",
       "      <th>6</th>\n",
       "      <td>101.094087</td>\n",
       "      <td>99.579283</td>\n",
       "      <td>99.790581</td>\n",
       "    </tr>\n",
       "    <tr>\n",
       "      <th>7</th>\n",
       "      <td>101.531428</td>\n",
       "      <td>99.661758</td>\n",
       "      <td>100.669928</td>\n",
       "    </tr>\n",
       "    <tr>\n",
       "      <th>8</th>\n",
       "      <td>101.981148</td>\n",
       "      <td>100.812359</td>\n",
       "      <td>101.751155</td>\n",
       "    </tr>\n",
       "    <tr>\n",
       "      <th>9</th>\n",
       "      <td>101.993065</td>\n",
       "      <td>102.274035</td>\n",
       "      <td>101.751638</td>\n",
       "    </tr>\n",
       "  </tbody>\n",
       "</table>\n",
       "</div>"
      ],
      "text/plain": [
       "             before      during       after\n",
       "Subject                                    \n",
       "0         89.162573   94.023517   94.594145\n",
       "1         90.857629   95.273755   95.040646\n",
       "2         94.912999   96.612870   95.200472\n",
       "3         95.254064   96.818673   97.205801\n",
       "4         97.136291   97.760342   98.428840\n",
       "5         99.809999   99.169227   98.867769\n",
       "6        101.094087   99.579283   99.790581\n",
       "7        101.531428   99.661758  100.669928\n",
       "8        101.981148  100.812359  101.751155\n",
       "9        101.993065  102.274035  101.751638"
      ]
     },
     "execution_count": 4,
     "metadata": {},
     "output_type": "execute_result"
    }
   ],
   "source": [
    "# Read dataset from url:\n",
    "import io\n",
    "import requests\n",
    "url=\"https://raw.githubusercontent.com/trangel/stats-with-python/master/data/BG-db.csv\"\n",
    "s=requests.get(url).content\n",
    "df=pd.read_csv(io.StringIO(s.decode('utf-8')),index_col=0)\n",
    "\n",
    "\n",
    "df.columns=['before','during','after']\n",
    "df.index.name='Subject'\n",
    "df.head(10)"
   ]
  },
  {
   "cell_type": "code",
   "execution_count": null,
   "metadata": {},
   "outputs": [],
   "source": [
    "# your solution"
   ]
  },
  {
   "cell_type": "markdown",
   "metadata": {},
   "source": [
    "# Task 9: Evaluate the Change in Mice Weights Before and After Treatment\n",
    "\n",
    "Objective: determine if there is a significant difference in the weights of mice before and after treatment."
   ]
  },
  {
   "cell_type": "code",
   "execution_count": 6,
   "metadata": {},
   "outputs": [
    {
     "name": "stdout",
     "output_type": "stream",
     "text": [
      "    group  weight\n",
      "0  before   200.1\n",
      "1  before   190.9\n",
      "2  before   192.7\n",
      "3  before   213.0\n",
      "4  before   241.4\n",
      "5  before   196.9\n",
      "6  before   172.2\n",
      "7  before   185.5\n",
      "8  before   205.2\n",
      "9  before   193.7\n"
     ]
    }
   ],
   "source": [
    "import pandas as pd\n",
    "\n",
    "# Weight of the mice before treatment\n",
    "before = [200.1, 190.9, 192.7, 213, 241.4, 196.9, 172.2, 185.5, 205.2, 193.7]\n",
    "\n",
    "# Weight of the mice after treatment\n",
    "after = [392.9, 393.2, 345.1, 393, 434, 427.9, 422, 383.9, 392.3, 352.2]\n",
    "\n",
    "# Create a data frame\n",
    "my_data = pd.DataFrame({\n",
    "    'group': ['before'] * len(before) + ['after'] * len(after),\n",
    "    'weight': before + after\n",
    "})\n",
    "\n",
    "# Display the first few rows of the dataset\n",
    "print(my_data.head(10))"
   ]
  },
  {
   "cell_type": "code",
   "execution_count": null,
   "metadata": {},
   "outputs": [],
   "source": [
    "# your solution"
   ]
  },
  {
   "cell_type": "markdown",
   "metadata": {},
   "source": [
    "# Task 10: Calculate Effect Size and Power \n",
    "\n",
    "Objective: Use Python to calculate the effect size and power for a test comparing the total bill amounts between smokers and non-smokers. Interpret your results. If the power is not satisfactory - how many observations should we sample to achieve 90% power?\n",
    "\n",
    "The tips dataset contains information about tips received by waitstaff in a restaurant, including various attributes such as total bill, tip amount, sex of the bill payer, whether the payer is a smoker, day of the week, time of day, and size of the party.\n",
    "\n",
    "The tips dataset contains the following columns:\n",
    "\n",
    "total_bill: The total bill amount (including tip) in dollars.\n",
    "\n",
    "tip: The tip amount in dollars.\n",
    "\n",
    "sex: The sex of the bill payer (Male or Female).\n",
    "\n",
    "smoker: Whether the bill payer is a smoker (Yes or No).\n",
    "\n",
    "day: The day of the week (Thur, Fri, Sat, Sun).\n",
    "\n",
    "time: The time of day (Lunch or Dinner).\n",
    "\n",
    "size: The size of the party."
   ]
  },
  {
   "cell_type": "code",
   "execution_count": 8,
   "metadata": {},
   "outputs": [
    {
     "name": "stdout",
     "output_type": "stream",
     "text": [
      "   total_bill   tip     sex smoker  day    time  size\n",
      "0       16.99  1.01  Female     No  Sun  Dinner     2\n",
      "1       10.34  1.66    Male     No  Sun  Dinner     3\n",
      "2       21.01  3.50    Male     No  Sun  Dinner     3\n",
      "3       23.68  3.31    Male     No  Sun  Dinner     2\n",
      "4       24.59  3.61  Female     No  Sun  Dinner     4\n"
     ]
    }
   ],
   "source": [
    "import seaborn as sns\n",
    "import pandas as pd\n",
    "\n",
    "# Load the tips dataset\n",
    "tips = sns.load_dataset('tips')\n",
    "\n",
    "# Display the first few rows of the dataset\n",
    "print(tips.head())"
   ]
  },
  {
   "cell_type": "code",
   "execution_count": null,
   "metadata": {},
   "outputs": [],
   "source": [
    "# your solution"
   ]
  },
  {
   "cell_type": "markdown",
   "metadata": {},
   "source": [
    "# Task 11: 2-way Anova\n",
    "\n",
    "Objective: Three teachers graded final exams for students, and each exam varied in difficulty (Easy, Medium, Hard). We are interested in investigating whether there are differences in scores based on:\n",
    "1.\tThe teacher grading the exam.\n",
    "2.\tThe difficulty level of the exam.\n",
    "3.\tThe interaction between teacher and difficulty level.\n"
   ]
  },
  {
   "cell_type": "code",
   "execution_count": 1,
   "metadata": {},
   "outputs": [
    {
     "name": "stdout",
     "output_type": "stream",
     "text": [
      "      Teacher Difficulty  Scores\n",
      "0   Teacher 1       Easy      78\n",
      "1   Teacher 1       Easy      82\n",
      "2   Teacher 1       Easy      85\n",
      "3   Teacher 1       Easy      80\n",
      "4   Teacher 1       Easy      79\n",
      "5   Teacher 1     Medium      70\n",
      "6   Teacher 1     Medium      75\n",
      "7   Teacher 1     Medium      73\n",
      "8   Teacher 1     Medium      72\n",
      "9   Teacher 1     Medium      74\n",
      "10  Teacher 1       Hard      60\n",
      "11  Teacher 1       Hard      65\n",
      "12  Teacher 1       Hard      62\n",
      "13  Teacher 1       Hard      63\n",
      "14  Teacher 1       Hard      61\n",
      "15  Teacher 2       Easy      80\n",
      "16  Teacher 2       Easy      85\n",
      "17  Teacher 2       Easy      83\n",
      "18  Teacher 2       Easy      81\n",
      "19  Teacher 2       Easy      82\n",
      "20  Teacher 2     Medium      72\n",
      "21  Teacher 2     Medium      74\n",
      "22  Teacher 2     Medium      75\n",
      "23  Teacher 2     Medium      73\n",
      "24  Teacher 2     Medium      71\n",
      "25  Teacher 2       Hard      63\n",
      "26  Teacher 2       Hard      64\n",
      "27  Teacher 2       Hard      66\n",
      "28  Teacher 2       Hard      62\n",
      "29  Teacher 2       Hard      65\n",
      "30  Teacher 3       Easy      81\n",
      "31  Teacher 3       Easy      83\n",
      "32  Teacher 3       Easy      82\n",
      "33  Teacher 3       Easy      84\n",
      "34  Teacher 3       Easy      85\n",
      "35  Teacher 3     Medium      73\n",
      "36  Teacher 3     Medium      71\n",
      "37  Teacher 3     Medium      74\n",
      "38  Teacher 3     Medium      72\n",
      "39  Teacher 3     Medium      70\n",
      "40  Teacher 3       Hard      64\n",
      "41  Teacher 3       Hard      63\n",
      "42  Teacher 3       Hard      62\n",
      "43  Teacher 3       Hard      65\n",
      "44  Teacher 3       Hard      66\n"
     ]
    }
   ],
   "source": [
    "import pandas as pd\n",
    "\n",
    "# Dane\n",
    "data = {\n",
    "    'Teacher': ['Teacher 1'] * 15 + ['Teacher 2'] * 15 + ['Teacher 3'] * 15,\n",
    "    'Difficulty': ['Easy'] * 5 + ['Medium'] * 5 + ['Hard'] * 5 +\n",
    "                  ['Easy'] * 5 + ['Medium'] * 5 + ['Hard'] * 5 +\n",
    "                  ['Easy'] * 5 + ['Medium'] * 5 + ['Hard'] * 5,\n",
    "    'Scores': [78, 82, 85, 80, 79, 70, 75, 73, 72, 74, 60, 65, 62, 63, 61,\n",
    "               80, 85, 83, 81, 82, 72, 74, 75, 73, 71, 63, 64, 66, 62, 65,\n",
    "               81, 83, 82, 84, 85, 73, 71, 74, 72, 70, 64, 63, 62, 65, 66]\n",
    "}\n",
    "\n",
    "# Tworzenie DataFrame\n",
    "df = pd.DataFrame(data)\n",
    "\n",
    "# Wyświetlenie DataFrame\n",
    "print(df)"
   ]
  },
  {
   "cell_type": "code",
   "execution_count": null,
   "metadata": {},
   "outputs": [],
   "source": [
    "# your solution"
   ]
  },
  {
   "cell_type": "markdown",
   "metadata": {},
   "source": [
    "# Task 12: Mantel-Haenszel test\n",
    "\n",
    "Objective: use the Mantel-Haenszel test to determine if there is a significant difference in the changes in doctoral program completion status between male and female students, controlling for the time variable (initial and final status).\n",
    "\n",
    "Gdańsk Tech classified students entering the PhD programs in a given year by their status 6 years later, with the data broken down by gender. The initial and final status of students is as follows: Men: 15 completed, 5 not completed, Women: 10 completed, 10 not completed. Final Status: Men: 12 completed, 8 not completed, Women: 8 completed, 12 not completed. Determine if there is a significant difference in the changes of doctoral program completion status between male and female students.\n"
   ]
  },
  {
   "cell_type": "code",
   "execution_count": null,
   "metadata": {},
   "outputs": [],
   "source": [
    "# your solution"
   ]
  }
 ],
 "metadata": {
  "kernelspec": {
   "display_name": "Python 3",
   "language": "python",
   "name": "python3"
  },
  "language_info": {
   "codemirror_mode": {
    "name": "ipython",
    "version": 3
   },
   "file_extension": ".py",
   "mimetype": "text/x-python",
   "name": "python",
   "nbconvert_exporter": "python",
   "pygments_lexer": "ipython3",
   "version": "3.8.2"
  }
 },
 "nbformat": 4,
 "nbformat_minor": 2
}
