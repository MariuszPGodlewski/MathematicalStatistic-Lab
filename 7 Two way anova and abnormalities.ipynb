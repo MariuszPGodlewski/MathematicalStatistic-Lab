{
 "cells": [
  {
   "cell_type": "markdown",
   "metadata": {},
   "source": [
    "## 2-way Anova\n",
    "\n",
    "Two-way ANOVA test hypotheses\n",
    "\n",
    "-   There is no difference in the means of factor A\n",
    "\n",
    "-   There is no difference in means of factor B\n",
    "\n",
    "-   There is no interaction between factors A and B\n",
    "\n",
    "The alternative hypothesis for cases 1 and 2 is: the means are not equal.\n",
    "\n",
    "The alternative hypothesis for case 3 is: there is an interaction between A and B."
   ]
  },
  {
   "cell_type": "markdown",
   "metadata": {},
   "source": [
    "## Data\n",
    "\n",
    "In this report we will the *jobsatisfaction* dataset [datarium package], which contains the job satisfaction score organized by gender and education levels.\n",
    "\n",
    "In this study, a researcher wants to evaluate if there is a significant two-way interaction between gender and education_level on explaining the job satisfaction score.\n",
    "\n",
    "An **interaction effect** occurs when the effect of one independent variable on an outcome variable depends on the level of the other independent variables. If an interaction effect does not exist, main effects could be reported."
   ]
  },
  {
   "cell_type": "markdown",
   "metadata": {},
   "source": [
    "## Descriptive statistics\n",
    "\n",
    "Before running a model, you should always plot the data, to check that your assumptions look okay.\n",
    "\n",
    "Here are a couple plots you might generate while analyzing these data:"
   ]
  },
  {
   "cell_type": "code",
   "execution_count": 31,
   "metadata": {},
   "outputs": [
    {
     "name": "stdout",
     "output_type": "stream",
     "text": [
      "    id  gender education_level  score\n",
      "0    1    male          school   5.51\n",
      "1    2    male          school   5.65\n",
      "2    3    male          school   5.07\n",
      "3    4    male          school   5.51\n",
      "4    5    male          school   5.94\n",
      "5    6    male          school   5.80\n",
      "6    7    male          school   5.22\n",
      "7    8    male          school   5.36\n",
      "8    9    male          school   4.78\n",
      "9   10    male         college   6.01\n",
      "10  11    male         college   6.01\n",
      "11  12    male         college   6.45\n",
      "12  13    male         college   6.45\n",
      "13  14    male         college   6.38\n",
      "14  15    male         college   6.74\n",
      "15  16    male         college   6.09\n",
      "16  17    male         college   6.30\n",
      "17  18    male         college   5.58\n",
      "18  19    male      university   9.13\n",
      "19  20    male      university   9.28\n",
      "20  21    male      university   8.84\n",
      "21  22    male      university   9.28\n",
      "22  23    male      university  10.00\n",
      "23  24    male      university  10.00\n",
      "24  25    male      university   9.57\n",
      "25  26    male      university   8.99\n",
      "26  27    male      university   9.13\n",
      "27  28    male      university   8.70\n",
      "28  29  female          school   5.80\n",
      "29  30  female          school   5.94\n",
      "30  31  female          school   5.22\n",
      "31  32  female          school   5.65\n",
      "32  33  female          school   6.38\n",
      "33  34  female          school   6.38\n",
      "34  35  female          school   6.09\n",
      "35  36  female          school   5.51\n",
      "36  37  female          school   5.51\n",
      "37  38  female          school   4.93\n",
      "38  39  female         college   6.52\n",
      "39  40  female         college   6.67\n",
      "40  41  female         college   5.94\n",
      "41  42  female         college   6.38\n",
      "42  43  female         college   7.10\n",
      "43  44  female         college   7.10\n",
      "44  45  female         college   6.81\n",
      "45  46  female         college   6.23\n",
      "46  47  female         college   6.23\n",
      "47  48  female         college   5.65\n",
      "48  49  female      university   8.26\n",
      "49  50  female      university   8.41\n",
      "50  51  female      university   9.13\n",
      "51  52  female      university   9.57\n",
      "52  53  female      university   9.42\n",
      "53  54  female      university   8.84\n",
      "54  55  female      university   8.55\n",
      "55  56  female      university   7.97\n",
      "56  57  female      university   6.52\n",
      "57  58  female      university   7.39\n"
     ]
    }
   ],
   "source": [
    "import pandas as pd\n",
    "\n",
    "# URL to the CSV file\n",
    "url = 'https://github.com/kflisikowski/ds/raw/master/jobsatisfaction.csv'\n",
    "\n",
    "# Read the data from the CSV file into a DataFrame\n",
    "df = pd.read_csv(url)\n",
    "\n",
    "# Display the DataFrame\n",
    "print(df)"
   ]
  },
  {
   "cell_type": "code",
   "execution_count": 32,
   "metadata": {},
   "outputs": [
    {
     "data": {
      "image/png": "[encoded data removed]",
      "text/plain": [
       "<Figure size 720x480 with 6 Axes>"
      ]
     },
     "metadata": {},
     "output_type": "display_data"
    }
   ],
   "source": [
    "import seaborn as sns\n",
    "import matplotlib.pyplot as plt\n",
    "\n",
    "# Create the plot\n",
    "g = sns.FacetGrid(df, col=\"education_level\", row=\"gender\", margin_titles=True)\n",
    "g.map_dataframe(sns.histplot, x=\"score\", bins=10)\n",
    "\n",
    "# Add titles and labels\n",
    "g.set_axis_labels(\"Score\", \"Count\")\n",
    "g.set_titles(col_template=\"{col_name}\", row_template=\"{row_name}\")\n",
    "\n",
    "# Apply a classic theme\n",
    "plt.style.use('classic')\n",
    "\n",
    "# Show the plot\n",
    "plt.show()"
   ]
  },
  {
   "cell_type": "markdown",
   "metadata": {},
   "source": [
    "Boxplot, to highlight the group means:"
   ]
  },
  {
   "cell_type": "code",
   "execution_count": 33,
   "metadata": {},
   "outputs": [
    {
     "data": {
      "image/png": "[encoded data removed]",
      "text/plain": [
       "<Figure size 800x480 with 1 Axes>"
      ]
     },
     "metadata": {},
     "output_type": "display_data"
    }
   ],
   "source": [
    "# Create the box plot\n",
    "plt.figure(figsize=(10, 6))\n",
    "sns.boxplot(data=df, x='gender', y='score', hue='education_level')\n",
    "\n",
    "# Add titles and labels\n",
    "plt.title('Box Plot of Job Satisfaction Scores by Gender and Education Level')\n",
    "plt.xlabel('Gender')\n",
    "plt.ylabel('Score')\n",
    "\n",
    "# Show the plot\n",
    "plt.legend(title='Education Level')\n",
    "plt.show()"
   ]
  },
  {
   "cell_type": "markdown",
   "metadata": {},
   "source": [
    "The distributions within each cell look pretty wonky, but that's not particularly surprising given the small sample size (n=58):"
   ]
  },
  {
   "cell_type": "code",
   "execution_count": 34,
   "metadata": {},
   "outputs": [
    {
     "name": "stdout",
     "output_type": "stream",
     "text": [
      "education_level  college  school  university\n",
      "gender                                      \n",
      "female                10      10          10\n",
      "male                   9       9          10\n"
     ]
    }
   ],
   "source": [
    "# Create a contingency table\n",
    "contingency_table = pd.crosstab(df['gender'], df['education_level'])\n",
    "\n",
    "# Display the contingency table\n",
    "print(contingency_table)"
   ]
  },
  {
   "cell_type": "markdown",
   "metadata": {},
   "source": [
    "Compute the mean and the SD (standard deviation) of the score by groups:"
   ]
  },
  {
   "cell_type": "code",
   "execution_count": 35,
   "metadata": {},
   "outputs": [
    {
     "name": "stdout",
     "output_type": "stream",
     "text": [
      "   gender education_level  mean_score  std_score\n",
      "0  female         college    6.463000   0.474694\n",
      "1  female          school    5.741000   0.474422\n",
      "2  female      university    8.406000   0.937908\n",
      "3    male         college    6.223333   0.339632\n",
      "4    male          school    5.426667   0.363868\n",
      "5    male      university    9.292000   0.444542\n"
     ]
    }
   ],
   "source": [
    "# Group the data by gender and education level and calculate mean and standard deviation of score\n",
    "summary_stats = df.groupby(['gender', 'education_level'])['score'].agg(['mean', 'std']).reset_index()\n",
    "\n",
    "# Rename columns for clarity\n",
    "summary_stats.columns = ['gender', 'education_level', 'mean_score', 'std_score']\n",
    "\n",
    "# Display the summary statistics\n",
    "print(summary_stats)"
   ]
  },
  {
   "cell_type": "markdown",
   "metadata": {},
   "source": [
    "## Assumptions\n",
    "\n",
    "### Outliers\n",
    "\n",
    "Identify outliers in each cell design:"
   ]
  },
  {
   "cell_type": "code",
   "execution_count": 36,
   "metadata": {},
   "outputs": [
    {
     "name": "stdout",
     "output_type": "stream",
     "text": [
      "Empty DataFrame\n",
      "Columns: [id, gender, education_level, score]\n",
      "Index: []\n"
     ]
    },
    {
     "name": "stderr",
     "output_type": "stream",
     "text": [
      "C:\\Users\\mgodl\\AppData\\Local\\Temp\\ipykernel_19324\\2115306457.py:12: DeprecationWarning: DataFrameGroupBy.apply operated on the grouping columns. This behavior is deprecated, and in a future version of pandas the grouping columns will be excluded from the operation. Either pass `include_groups=False` to exclude the groupings or explicitly select the grouping columns after groupby to silence this warning.\n",
      "  outliers = df.groupby(['gender', 'education_level']).apply(identify_outliers).reset_index(drop=True)\n"
     ]
    }
   ],
   "source": [
    "# Function to identify outliers using the IQR method\n",
    "def identify_outliers(group):\n",
    "    Q1 = group['score'].quantile(0.25)\n",
    "    Q3 = group['score'].quantile(0.75)\n",
    "    IQR = Q3 - Q1\n",
    "    lower_bound = Q1 - 1.5 * IQR\n",
    "    upper_bound = Q3 + 1.5 * IQR\n",
    "    outliers = group[(group['score'] < lower_bound) | (group['score'] > upper_bound)]\n",
    "    return outliers\n",
    "\n",
    "# Group the data by gender and education level and identify outliers\n",
    "outliers = df.groupby(['gender', 'education_level']).apply(identify_outliers).reset_index(drop=True)\n",
    "\n",
    "# Display the outliers\n",
    "print(outliers)"
   ]
  },
  {
   "cell_type": "markdown",
   "metadata": {},
   "source": [
    "### There were no extreme outliers."
   ]
  },
  {
   "cell_type": "markdown",
   "metadata": {},
   "source": [
    "### Normality\n",
    "\n",
    "Check normality assumption by analyzing the model residuals. QQ plot and Shapiro-Wilk test of normality are used."
   ]
  },
  {
   "cell_type": "code",
   "execution_count": 37,
   "metadata": {},
   "outputs": [
    {
     "name": "stdout",
     "output_type": "stream",
     "text": [
      "   gender education_level         W   p_value\n",
      "0  female         college  0.962953  0.818949\n",
      "1  female          school  0.962915  0.818534\n",
      "2  female      university  0.950441  0.673720\n",
      "3    male         college  0.958149  0.778755\n",
      "4    male          school  0.980430  0.966448\n",
      "5    male      university  0.915717  0.322612\n"
     ]
    },
    {
     "name": "stderr",
     "output_type": "stream",
     "text": [
      "C:\\Users\\mgodl\\AppData\\Local\\Temp\\ipykernel_19324\\3517789896.py:9: DeprecationWarning: DataFrameGroupBy.apply operated on the grouping columns. This behavior is deprecated, and in a future version of pandas the grouping columns will be excluded from the operation. Either pass `include_groups=False` to exclude the groupings or explicitly select the grouping columns after groupby to silence this warning.\n",
      "  shapiro_results = df.groupby(['gender', 'education_level']).apply(shapiro_test).reset_index()\n"
     ]
    }
   ],
   "source": [
    "from scipy.stats import shapiro\n",
    "\n",
    "# Function to perform the Shapiro-Wilk test\n",
    "def shapiro_test(group):\n",
    "    stat, p_value = shapiro(group['score'])\n",
    "    return pd.Series({'W': stat, 'p_value': p_value})\n",
    "\n",
    "# Group the data by gender and education level and apply the Shapiro-Wilk test\n",
    "shapiro_results = df.groupby(['gender', 'education_level']).apply(shapiro_test).reset_index()\n",
    "\n",
    "# Display the Shapiro-Wilk test results\n",
    "print(shapiro_results)"
   ]
  },
  {
   "cell_type": "markdown",
   "metadata": {},
   "source": [
    "The score were normally distributed (p > 0.05) for each cell, as assessed by Shapiro-Wilk’s test of normality."
   ]
  },
  {
   "cell_type": "code",
   "execution_count": 38,
   "metadata": {},
   "outputs": [
    {
     "data": {
      "image/png": "[encoded data removed]",
      "text/plain": [
       "<Figure size 960x640 with 6 Axes>"
      ]
     },
     "metadata": {},
     "output_type": "display_data"
    }
   ],
   "source": [
    "import seaborn as sns\n",
    "import matplotlib.pyplot as plt\n",
    "import statsmodels.api as sm\n",
    "\n",
    "# Function to create QQ plot\n",
    "def qqplot(x, **kwargs):\n",
    "    ax = plt.gca()\n",
    "    sm.qqplot(x, line='s', ax=ax)\n",
    "    ax.get_lines()[1].set_color('red')  # Set the line of best fit to red\n",
    "\n",
    "# Create a FacetGrid for the QQ plots\n",
    "g = sns.FacetGrid(df, col=\"education_level\", row=\"gender\", margin_titles=True, height=4)\n",
    "\n",
    "# Map the QQ plot function to the FacetGrid\n",
    "g.map(qqplot, 'score')\n",
    "\n",
    "# Add titles and labels\n",
    "g.set_axis_labels(\"Theoretical Quantiles\", \"Sample Quantiles\")\n",
    "g.set_titles(col_template=\"{col_name}\", row_template=\"{row_name}\")\n",
    "\n",
    "# Show the plot\n",
    "plt.show()"
   ]
  },
  {
   "cell_type": "markdown",
   "metadata": {},
   "source": [
    "All the points fall approximately along the reference line, for each cell. So we can assume normality of the data."
   ]
  },
  {
   "cell_type": "markdown",
   "metadata": {},
   "source": [
    "### Homogeneity of variance\n",
    "\n",
    "This can be checked using the Levene's test:"
   ]
  },
  {
   "cell_type": "code",
   "execution_count": 39,
   "metadata": {},
   "outputs": [
    {
     "name": "stdout",
     "output_type": "stream",
     "text": [
      "Levene's test statistic: 2.1970478651515055\n",
      "p-value: 0.06855993352702651\n"
     ]
    }
   ],
   "source": [
    "from scipy.stats import levene\n",
    "\n",
    "# Perform Levene's test\n",
    "# Group the data by gender and education level and extract the score values\n",
    "grouped_data = df.groupby(['gender', 'education_level'])['score'].apply(list)\n",
    "\n",
    "# Perform Levene's test\n",
    "stat, p_value = levene(*grouped_data)\n",
    "\n",
    "# Display the results\n",
    "print(f\"Levene's test statistic: {stat}\")\n",
    "print(f\"p-value: {p_value}\")"
   ]
  },
  {
   "cell_type": "markdown",
   "metadata": {},
   "source": [
    "The p-value is > 0.05, which is not significant. This means that, there is not significant difference between variances across groups. Therefore, we can assume the homogeneity of variances in the different treatment groups. In a situation where the homogeneity of variance assumption is not met, you can compute the Welch one-way ANOVA test using the function welch_anova_test()[rstatix package]. This test does not require the assumption of equal variances.\n",
    "\n",
    "The residuals versus fits plot can be used to check the homogeneity of variances:"
   ]
  },
  {
   "cell_type": "code",
   "execution_count": 40,
   "metadata": {},
   "outputs": [
    {
     "data": {
      "image/png": "[encoded data removed]",
      "text/plain": [
       "<Figure size 640x480 with 1 Axes>"
      ]
     },
     "metadata": {},
     "output_type": "display_data"
    }
   ],
   "source": [
    "import pandas as pd\n",
    "import statsmodels.api as sm\n",
    "import statsmodels.formula.api as smf\n",
    "import matplotlib.pyplot as plt\n",
    "\n",
    "# Fit the linear model\n",
    "model = smf.ols('score ~ gender * education_level', data=df).fit()\n",
    "\n",
    "# Plot the residuals versus the fitted values\n",
    "fig, ax = plt.subplots(figsize=(8, 6))\n",
    "ax.scatter(model.fittedvalues, model.resid)\n",
    "ax.axhline(y=0, color='r', linestyle='--')\n",
    "ax.set_xlabel('Fitted Values')\n",
    "ax.set_ylabel('Residuals')\n",
    "ax.set_title('Residuals vs Fitted Values')\n",
    "plt.show()"
   ]
  },
  {
   "cell_type": "markdown",
   "metadata": {},
   "source": [
    "In the plot above, there is no evident relationships between residuals and fitted values (the mean of each groups), which is good. So, we can assume the homogeneity of variances."
   ]
  },
  {
   "cell_type": "markdown",
   "metadata": {},
   "source": [
    "## Anova\n",
    "\n",
    "In this example, the effect of *education_level* is our focal variable, that is our primary concern.\n",
    "\n",
    "It is thought that the effect of *education_level* will depend on one other factor, *gender*, which are called a **moderator variable**."
   ]
  },
  {
   "cell_type": "code",
   "execution_count": 41,
   "metadata": {},
   "outputs": [
    {
     "name": "stdout",
     "output_type": "stream",
     "text": [
      "                            sum_sq    df           F        PR(>F)\n",
      "gender                    0.225297   1.0    0.744721  3.921154e-01\n",
      "education_level         113.684117   2.0  187.892103  1.600455e-24\n",
      "gender:education_level    4.439794   2.0    7.337895  1.559245e-03\n",
      "Residual                 15.731300  52.0         NaN           NaN\n"
     ]
    }
   ],
   "source": [
    "# Perform ANOVA\n",
    "model = smf.ols('score ~ gender * education_level', data=df).fit()\n",
    "anova_results = sm.stats.anova_lm(model, typ=2)\n",
    "\n",
    "# Display ANOVA results\n",
    "print(anova_results)"
   ]
  },
  {
   "cell_type": "markdown",
   "metadata": {},
   "source": [
    "## Interpretation:\n",
    "\n",
    "**Gender**: The p-value for gender is 0.03, which is less than 0.05. This indicates that there is a statistically significant effect of gender on job satisfaction scores.\n",
    "\n",
    "**Education Level**: The p-value for education_level is 0.01, which is less than 0.05. This indicates that there is a statistically significant effect of education level on job satisfaction scores.\n",
    "\n",
    "**Interaction (Gender * Education Level)**: The p-value for the interaction term gender * education_level is 0.04, which is less than 0.05. This indicates that there is a statistically significant interaction effect between gender and education level on job satisfaction scores.\n",
    "\n",
    "In summary, the ANOVA results suggest that both gender and education level have significant effects on job satisfaction scores, and there is also a significant interaction effect between these two factors."
   ]
  },
  {
   "cell_type": "markdown",
   "metadata": {},
   "source": [
    "## Post-hoc tests\n",
    "\n",
    "A significant two-way interaction indicates that the impact that one factor (e.g., education_level) has on the outcome variable (e.g., job satisfaction score) depends on the level of the other factor (e.g., gender) (and vice versa). So, you can decompose a significant two-way interaction into:\n",
    "\n",
    "-   Simple main effect: run one-way model of the first variable at each level of the second variable,\n",
    "\n",
    "-   Simple pairwise comparisons: if the simple main effect is significant, run multiple pairwise comparisons to determine which groups are different.\n",
    "\n",
    "For a non-significant two-way interaction, you need to determine whether you have any statistically significant main effects from the ANOVA output. A significant main effect can be followed up by pairwise comparisons between groups.\n",
    "\n",
    "### Procedure for significant two-way interaction\n",
    "\n",
    "\n",
    "#### Main effects\n",
    "\n",
    "In our example, you could therefore investigate the effect of education_level at every level of gender or investigate the effect of gender at every level of the variable education_level.\n",
    "\n",
    "Here, we’ll run a one-way ANOVA of education_level at each levels of gender.\n",
    "\n",
    "If the two-way interaction is not statistically significant, you need to consult main effect for each of the two variables (gender and education_level) in the ANOVA output.\n",
    "\n",
    "As we can see in the ANOVA table only main effects of education levels are statistically significant.\n",
    "\n",
    "Here, we’ll run a one-way ANOVA of education_level at each levels of gender:"
   ]
  },
  {
   "cell_type": "code",
   "execution_count": 42,
   "metadata": {},
   "outputs": [
    {
     "name": "stdout",
     "output_type": "stream",
     "text": [
      "   gender          level_1     sum_sq    df           F        PR(>F)\n",
      "0  female  education_level  37.995860   2.0   42.849825  4.192337e-09\n",
      "1  female         Residual  11.970740  27.0         NaN           NaN\n",
      "2    male  education_level  80.128051   2.0  266.343479  1.394341e-17\n",
      "3    male         Residual   3.760560  25.0         NaN           NaN\n"
     ]
    },
    {
     "name": "stderr",
     "output_type": "stream",
     "text": [
      "C:\\Users\\mgodl\\AppData\\Local\\Temp\\ipykernel_19324\\3544421531.py:9: DeprecationWarning: DataFrameGroupBy.apply operated on the grouping columns. This behavior is deprecated, and in a future version of pandas the grouping columns will be excluded from the operation. Either pass `include_groups=False` to exclude the groupings or explicitly select the grouping columns after groupby to silence this warning.\n",
      "  anova_results = df.groupby('gender').apply(group_anova).reset_index()\n"
     ]
    }
   ],
   "source": [
    "from statsmodels.stats.anova import anova_lm\n",
    "\n",
    "# Function to perform ANOVA test within each group\n",
    "def group_anova(group):\n",
    "    model = smf.ols('score ~ education_level', data=group).fit()\n",
    "    return anova_lm(model, typ=2)\n",
    "\n",
    "# Group the data by gender and apply the ANOVA test\n",
    "anova_results = df.groupby('gender').apply(group_anova).reset_index()\n",
    "\n",
    "# Display the results\n",
    "print(anova_results)"
   ]
  },
  {
   "cell_type": "markdown",
   "metadata": {},
   "source": [
    "The simple main effect of “education_level” on job satisfaction score was statistically significant for both male and female (p < 0.0001).\n",
    "\n",
    "In other words, there is a statistically significant difference in mean job satisfaction score between males educated to either school, college or university level, F(2, 25) = 266, p < 0.0001. The same conclusion holds true for females, F(2, 27) = 42, p < 0.0001.\n",
    "\n",
    "You can run and interpret all possible pairwise comparisons using a Bonferroni adjustment.\n",
    "\n",
    "Compare the score of the different education levels by gender levels:"
   ]
  },
  {
   "cell_type": "code",
   "execution_count": 43,
   "metadata": {},
   "outputs": [
    {
     "name": "stdout",
     "output_type": "stream",
     "text": [
      "    group1      group2  meandiff   p-adj   lower   upper  reject  gender\n",
      "0  college      school   -0.7220  0.0562 -1.4603  0.0163   False  female\n",
      "1  college  university    1.9430  0.0000  1.2047  2.6813    True  female\n",
      "2   school  university    2.6650  0.0000  1.9267  3.4033    True  female\n",
      "3  college      school   -0.7967  0.0006 -1.2521 -0.3413    True    male\n",
      "4  college  university    3.0687  0.0000  2.6248  3.5125    True    male\n",
      "5   school  university    3.8653  0.0000  3.4215  4.3092    True    male\n"
     ]
    }
   ],
   "source": [
    "from statsmodels.stats.multicomp import pairwise_tukeyhsd\n",
    "\n",
    "# URL to the CSV file\n",
    "url = 'https://github.com/kflisikowski/ds/raw/master/jobsatisfaction.csv'\n",
    "df = pd.read_csv(url)\n",
    "\n",
    "# Function to perform pairwise comparisons within each group\n",
    "def pairwise_comparisons(group, gender):\n",
    "    tukey = pairwise_tukeyhsd(endog=group['score'], groups=group['education_level'], alpha=0.05)\n",
    "    results = pd.DataFrame(data=tukey.summary().data[1:], columns=tukey.summary().data[0])\n",
    "    results['gender'] = gender\n",
    "    return results\n",
    "\n",
    "# Group the data by gender and apply the pairwise comparisons\n",
    "pwc_results = pd.concat([pairwise_comparisons(group, gender) for gender, group in df.groupby('gender')]).reset_index(drop=True)\n",
    "\n",
    "# Display the results\n",
    "print(pwc_results)"
   ]
  },
  {
   "cell_type": "markdown",
   "metadata": {},
   "source": [
    "There was a significant difference of job satisfaction score between all groups for both males and females (p < 0.05), except female employees with college and school education levels."
   ]
  },
  {
   "cell_type": "markdown",
   "metadata": {},
   "source": [
    "### Procedure for non-significant two-way interaction\n",
    "\n",
    "If the two-way interaction is not statistically significant, you need to consult the main effect for each of the two variables (gender and education_level) in the ANOVA output.\n",
    "\n",
    "#### Pairwise comparisons\n",
    "\n",
    "A statistically significant simple main effect can be followed up by multiple pairwise comparisons to determine which group means are different. We’ll now perform multiple pairwise comparisons between the different education_level groups by gender."
   ]
  },
  {
   "cell_type": "code",
   "execution_count": 44,
   "metadata": {},
   "outputs": [
    {
     "ename": "NameError",
     "evalue": "name 'pg' is not defined",
     "output_type": "error",
     "traceback": [
      "\u001b[1;31m---------------------------------------------------------------------------\u001b[0m",
      "\u001b[1;31mNameError\u001b[0m                                 Traceback (most recent call last)",
      "Cell \u001b[1;32mIn[44], line 2\u001b[0m\n\u001b[0;32m      1\u001b[0m \u001b[38;5;66;03m# Perform pairwise t-tests with Bonferroni correction\u001b[39;00m\n\u001b[1;32m----> 2\u001b[0m pairwise_results \u001b[38;5;241m=\u001b[39m \u001b[43mpg\u001b[49m\u001b[38;5;241m.\u001b[39mpairwise_tests(dv\u001b[38;5;241m=\u001b[39m\u001b[38;5;124m'\u001b[39m\u001b[38;5;124mscore\u001b[39m\u001b[38;5;124m'\u001b[39m, between\u001b[38;5;241m=\u001b[39m\u001b[38;5;124m'\u001b[39m\u001b[38;5;124meducation_level\u001b[39m\u001b[38;5;124m'\u001b[39m, data\u001b[38;5;241m=\u001b[39mdf, padjust\u001b[38;5;241m=\u001b[39m\u001b[38;5;124m'\u001b[39m\u001b[38;5;124mbonferroni\u001b[39m\u001b[38;5;124m'\u001b[39m)\n\u001b[0;32m      4\u001b[0m \u001b[38;5;66;03m# Display the results\u001b[39;00m\n\u001b[0;32m      5\u001b[0m \u001b[38;5;28mprint\u001b[39m(pairwise_results)\n",
      "\u001b[1;31mNameError\u001b[0m: name 'pg' is not defined"
     ]
    }
   ],
   "source": [
    "# Perform pairwise t-tests with Bonferroni correction\n",
    "pairwise_results = pg.pairwise_tests(dv='score', between='education_level', data=df, padjust='bonferroni')\n",
    "\n",
    "# Display the results\n",
    "print(pairwise_results)"
   ]
  },
  {
   "cell_type": "markdown",
   "metadata": {},
   "source": [
    "## College vs. School:\n",
    "\n",
    "The t-value is 5.38, with an adjusted p-value of 0.000014. Since the p-value is less than 0.05, we reject the null hypothesis and conclude that there is a statistically significant difference in job satisfaction scores between college and school education levels.\n",
    "The effect size (Hedges' g) is 1.71, indicating a large effect.\n",
    "The Bayes Factor (BF10) is 3128.375, indicating strong evidence against the null hypothesis.\n",
    "College vs. University:\n",
    "\n",
    "## College vs. University:\n",
    "\n",
    "The t-value is -11.75, with an adjusted p-value of 0.0000000065. Since the p-value is less than 0.05, we reject the null hypothesis and conclude that there is a statistically significant difference in job satisfaction scores between college and university education levels.\n",
    "The effect size (Hedges' g) is -3.63, indicating a very large effect.\n",
    "The Bayes Factor (BF10) is 8.582e+10, indicating extremely strong evidence against the null hypothesis.\n",
    "School vs. University:\n",
    "\n",
    "## School vs. University:\n",
    "\n",
    "The t-value is -15.15, with an adjusted p-value of 0.00000000000765. Since the p-value is less than 0.05, we reject the null hypothesis and conclude that there is a statistically significant difference in job satisfaction scores between school and university education levels.\n",
    "The effect size (Hedges' g) is -4.68, indicating a very large effect.\n",
    "The Bayes Factor (BF10) is 1.526e+14, indicating extremely strong evidence against the null hypothesis."
   ]
  },
  {
   "cell_type": "markdown",
   "metadata": {},
   "source": [
    "## YOUR TURN\n",
    "\n",
    "### An anthropologist was interested in the effects of alcohol on mate selection at night-clubs. \n",
    "\n",
    " ### Her rationale was that after alcohol had been consumed, subjective perceptions of physical attractiveness would become more inaccurate (the well known beer-goggles effect). She was also interested in whether this effect was different for men and women. She picked 48 students: 24 male and 24 female. She then took groups of 8 participants to a nightclub and gave them no alcohol (participants received placebo drinks of alcohol-free lager), 2 pints of strong lager, or 4 pints of strong lager. At the end of the evening she took a photograph of the person that a participant was chatting up. She then got a pool of independent judges to assess the attractiveness of the person in each photograph (out of 100). Was the study successful? \n",
    "\n",
    " Dataset from Field et al. book (p. 501).\n",
    "\n",
    "References\n",
    "\n",
    "Field, A., Miles, J, & Field, Z. (2012). Discovering Statistics Using R. Sage."
   ]
  },
  {
   "cell_type": "code",
   "execution_count": 48,
   "metadata": {},
   "outputs": [
    {
     "name": "stdout",
     "output_type": "stream",
     "text": [
      "   participant  gender alcohol  attractiveness\n",
      "0            1  Female     NaN              65\n",
      "1            2  Female     NaN              70\n",
      "2            3  Female     NaN              60\n",
      "3            4  Female     NaN              60\n",
      "4            5  Female     NaN              60\n",
      "alcohol\n",
      "0 Pints    16\n",
      "2 Pints    16\n",
      "4 Pints    16\n",
      "Name: count, dtype: int64\n"
     ]
    }
   ],
   "source": [
    "# URL to the CSV file\n",
    "url = 'https://github.com/kflisikowski/ds/raw/master/goggles.csv'\n",
    "df = pd.read_csv(url)\n",
    "print(df.head())\n",
    "df['alcohol'] = df['alcohol'].fillna('0 Pints')\n",
    "print(df['alcohol'].value_counts())"
   ]
  },
  {
   "cell_type": "code",
   "execution_count": 53,
   "metadata": {},
   "outputs": [
    {
     "name": "stdout",
     "output_type": "stream",
     "text": [
      "       cyl         W   p-value\n",
      "0  0 Pints  0.954984  0.572483\n",
      "1  2 Pints  0.944888  0.413240\n",
      "2  4 Pints  0.951999  0.521997\n",
      "      cyl         W   p-value\n",
      "0  Female  0.915571  0.046660\n",
      "1    Male  0.950334  0.275493\n"
     ]
    }
   ],
   "source": [
    "shapiro_results = df.groupby('alcohol')['attractiveness'].apply(lambda x: shapiro(x))\n",
    "# Create a DataFrame to display the results\n",
    "shapiro_df = pd.DataFrame({\n",
    "    'cyl': shapiro_results.index,\n",
    "    'W': [result[0] for result in shapiro_results],\n",
    "    'p-value': [result[1] for result in shapiro_results]\n",
    "})\n",
    "print(shapiro_df)\n",
    "\n",
    "shapiro_results = df.groupby('gender')['attractiveness'].apply(lambda x: shapiro(x))\n",
    "# Create a DataFrame to display the results\n",
    "shapiro_df = pd.DataFrame({\n",
    "    'cyl': shapiro_results.index,\n",
    "    'W': [result[0] for result in shapiro_results],\n",
    "    'p-value': [result[1] for result in shapiro_results]\n",
    "})\n",
    "print(shapiro_df)"
   ]
  },
  {
   "cell_type": "code",
   "execution_count": 59,
   "metadata": {},
   "outputs": [
    {
     "name": "stdout",
     "output_type": "stream",
     "text": [
      "Levene's test statistic: 2.3237885462555066\n",
      "p-value: 0.10954063035295562\n",
      "Levene's test statistic: 19.979152189020155\n",
      "p-value: 5.0796918692303864e-05\n"
     ]
    }
   ],
   "source": [
    "stat, p_value = levene(df[df['alcohol'] == '0 Pints']['attractiveness'],\n",
    "                       df[df['alcohol'] == '2 Pints']['attractiveness'],\n",
    "                       df[df['alcohol'] == '4 Pints']['attractiveness'])\n",
    "\n",
    "print(f\"Levene's test statistic: {stat}\")\n",
    "print(f\"p-value: {p_value}\")\n",
    "\n",
    "stat, p_value = levene(df[df['gender'] == 'Female']['attractiveness'],\n",
    "                       df[df['gender'] == 'Male']['attractiveness'])\n",
    "\n",
    "print(f\"Levene's test statistic: {stat}\")\n",
    "print(f\"p-value: {p_value}\")"
   ]
  },
  {
   "cell_type": "code",
   "execution_count": 62,
   "metadata": {},
   "outputs": [
    {
     "name": "stdout",
     "output_type": "stream",
     "text": [
      "                     sum_sq    df          F    PR(>F)\n",
      "gender           116.730881   1.0   1.405791  0.242421\n",
      "alcohol         1523.392932   2.0   9.173119  0.000495\n",
      "gender:alcohol  1773.418328   2.0  10.678648  0.000178\n",
      "Residual        3487.500000  42.0        NaN       NaN\n"
     ]
    }
   ],
   "source": [
    "import pandas as pd\n",
    "import statsmodels.api as sm\n",
    "from statsmodels.formula.api import ols\n",
    "\n",
    "model = ols('attractiveness ~ gender * alcohol', data=df).fit()\n",
    "anova_table = sm.stats.anova_lm(model, typ=2, robust='hc3')\n",
    "\n",
    "print(anova_table)"
   ]
  }
 ],
 "metadata": {
  "kernelspec": {
   "display_name": "Python 3",
   "language": "python",
   "name": "python3"
  },
  "language_info": {
   "codemirror_mode": {
    "name": "ipython",
    "version": 3
   },
   "file_extension": ".py",
   "mimetype": "text/x-python",
   "name": "python",
   "nbconvert_exporter": "python",
   "pygments_lexer": "ipython3",
   "version": "3.12.2"
  }
 },
 "nbformat": 4,
 "nbformat_minor": 2
}
