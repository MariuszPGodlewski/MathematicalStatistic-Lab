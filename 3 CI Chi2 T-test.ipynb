{
 "cells": [
  {
   "cell_type": "markdown",
   "metadata": {},
   "source": [
    "Your task is to analyze survey data available at the following link: surveydata3.csv. The analysis includes estimating the mean with confidence intervals, standard error, minimum sample size for a specified precision, and estimating proportions.\n",
    "\n",
    "- The data is loaded from the CSV file available at the following link: [surveydata3.csv](https://raw.githubusercontent.com/juanspinzon/survey-data/refs/heads/main/surveydata3.csv).\n",
    "- The dataset contains 753 rows and 55 columns, including various demographic and survey response variables.\n",
    "- A detailed description of the dataset can be found [here](https://raw.githubusercontent.com/juanspinzon/survey-data/refs/heads/main/surveydata3_description.csv).\n",
    "\n",
    "**Instructions**\n",
    "\n",
    "**Load the Data:**\n",
    "\n",
    "- Load the data from the CSV file.\n",
    "- Calculate the mean number of hours of sleep per night.\n",
    "- Calculate the proportion of people who want to buy Udacity swag and prefer hoodies.\n",
    "\n",
    "**Mean & Variance Estimation:**\n",
    "\n",
    "- Calculate the mean and variance for the number of hours that Udemy students sleep per night.\n",
    "- Calculate the confidence interval for the mean and variance.\n",
    "- Calculate the standard error.\n",
    "- Calculate the minimum sample size required to achieve a specified precision (e.g., 3%). \n",
    "- Visualize results with the boxplot (mean, std errors, confidence interval).\n",
    "\n",
    "**Proportion Estimation:**\n",
    "\n",
    "- Calculate the proportion for of people who want to buy Udacity swag and prefer hoodies :)\n",
    "- Calculate the confidence interval for that proportion.\n",
    "- Calculate the standard error.\n",
    "- Calculate the minimum sample size required to achieve a specified precision (e.g., 3%).\n",
    "- Visualize results with the boxplot (proportion, std errors, confidence interval).\n",
    "\n"
   ]
  },
  {
   "cell_type": "code",
   "execution_count": 1,
   "metadata": {},
   "outputs": [
    {
     "name": "stdout",
     "output_type": "stream",
     "text": [
      "2    7.0\n",
      "3    7.0\n",
      "4    8.0\n",
      "5    6.0\n",
      "6    8.0\n",
      "Name: sleep hours per night, dtype: float64\n"
     ]
    },
    {
     "data": {
      "text/plain": [
       "(array([  1.,   0.,   0.,  14.,  27., 184., 318., 186.,  12.,   5.]),\n",
       " array([ 1. ,  1.9,  2.8,  3.7,  4.6,  5.5,  6.4,  7.3,  8.2,  9.1, 10. ]),\n",
       " <BarContainer object of 10 artists>)"
      ]
     },
     "execution_count": 1,
     "metadata": {},
     "output_type": "execute_result"
    },
    {
     "data": {
      "image/png": "[encoded data removed]",
      "text/plain": [
       "<Figure size 640x480 with 1 Axes>"
      ]
     },
     "metadata": {},
     "output_type": "display_data"
    }
   ],
   "source": [
    "import pandas as pd\n",
    "import matplotlib.pyplot as plt\n",
    "\n",
    "url = 'https://raw.githubusercontent.com/juanspinzon/survey-data/refs/heads/main/clean_surveydata3.xlsx?raw=true'\n",
    "df = pd.read_excel(url, engine='openpyxl')\n",
    "dane = df[\"sleep hours per night\"]\n",
    "dane = dane.dropna()\n",
    "print(dane.head())\n",
    "\n",
    "plt.hist(dane,bins=10)"
   ]
  },
  {
   "cell_type": "code",
   "execution_count": 5,
   "metadata": {},
   "outputs": [
    {
     "name": "stdout",
     "output_type": "stream",
     "text": [
      "Mean sleeping time: 6.92\n",
      "Standard error for the mean %: 0.52\n",
      "Confidence interval for the mean: (6.82,7.01)\n"
     ]
    }
   ],
   "source": [
    "import numpy as np\n",
    "from scipy import stats\n",
    "mean_sleep_time = np.mean(dane)\n",
    "se_mean = stats.sem(dane)\n",
    "relative_error = (se_mean/mean_sleep_time)*100\n",
    "lower,upp = stats.t.interval(0.99, len(dane)-1, loc= mean_sleep_time, scale=se_mean)\n",
    "print(f\"Mean sleeping time: {mean_sleep_time:.2f}\")\n",
    "print(f\"Standard error for the mean %: {relative_error:.2f}\")\n",
    "print(f\"Confidence interval for the mean: ({lower:.2f},{upp:.2f})\")"
   ]
  },
  {
   "cell_type": "code",
   "execution_count": 3,
   "metadata": {},
   "outputs": [
    {
     "name": "stdout",
     "output_type": "stream",
     "text": [
      "Sample variance: 0.97\n",
      "Sample sd: 0.99\n",
      "Variance confidence interval: (0.88, 1.08)\n",
      "SD conf interval: (0.94,1.04)\n"
     ]
    }
   ],
   "source": [
    "# confidence interval for SD (sleep time)\n",
    "#stats.chi2(df=df_number).interval(0.95)\n",
    "\n",
    "from scipy.stats import chi2\n",
    "n=len(dane)\n",
    "df_number = n-1\n",
    "alpha = 0.05\n",
    "sample_variance = np.var(dane)\n",
    "sample_sd = np.sqrt(sample_variance)\n",
    "\n",
    "chi2_lower = chi2.ppf(alpha/2, df_number)\n",
    "chi2_upper = chi2.ppf(1-alpha/2, df_number)\n",
    "\n",
    "ci_lower = (df_number*sample_variance)/chi2_upper\n",
    "ci_upper = (df_number*sample_variance)/chi2_lower\n",
    "ci_low = np.sqrt(ci_lower)\n",
    "ci_up = np.sqrt(ci_upper)\n",
    "\n",
    "print(f\"Sample variance: {sample_variance:.2f}\")\n",
    "print(f\"Sample sd: {sample_sd:.2f}\")\n",
    "print(f\"Variance confidence interval: ({ci_lower:.2f}, {ci_upper:.2f})\")\n",
    "print(f\"SD conf interval: ({ci_low:.2f},{ci_up:.2f})\")"
   ]
  },
  {
   "cell_type": "code",
   "execution_count": null,
   "metadata": {},
   "outputs": [],
   "source": []
  }
 ],
 "metadata": {
  "kernelspec": {
   "display_name": "Python 3",
   "language": "python",
   "name": "python3"
  },
  "language_info": {
   "codemirror_mode": {
    "name": "ipython",
    "version": 3
   },
   "file_extension": ".py",
   "mimetype": "text/x-python",
   "name": "python",
   "nbconvert_exporter": "python",
   "pygments_lexer": "ipython3",
   "version": "3.12.2"
  }
 },
 "nbformat": 4,
 "nbformat_minor": 2
}
